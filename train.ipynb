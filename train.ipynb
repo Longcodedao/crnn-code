{
 "cells": [
  {
   "cell_type": "code",
   "execution_count": 1,
   "id": "f8837156-6138-4868-beed-9f2fb9fb35f3",
   "metadata": {},
   "outputs": [],
   "source": [
    "from data.dataset import Synth90kDataset, synth90k_collate_fn\n",
    "import torch.multiprocessing as mp\n",
    "import torch\n",
    "from torch.utils.data import DataLoader\n",
    "\n",
    "# Set multiprocessing start method to 'spawn'\n",
    "mp.set_start_method('spawn', force=True)\n",
    "\n",
    "\n",
    "dataset_path = './data/mnt/ramdisk/max/90kDICT32px/'\n",
    "modes = ['train', 'val', 'test']\n",
    "device = torch.device(\"cuda\" if torch.cuda.is_available() else \"cpu\")"
   ]
  },
  {
   "cell_type": "code",
   "execution_count": 2,
   "id": "bbc0e6f3-29a3-4a10-a4cc-91cd7244b367",
   "metadata": {},
   "outputs": [
    {
     "name": "stdout",
     "output_type": "stream",
     "text": [
      "Loading Dataset with mode: test\n"
     ]
    }
   ],
   "source": [
    "test_dataset = Synth90kDataset(dataset_path, modes[2])"
   ]
  },
  {
   "cell_type": "code",
   "execution_count": 3,
   "id": "5b60e790-682c-4a41-9360-95306ef8626f",
   "metadata": {},
   "outputs": [
    {
     "name": "stdout",
     "output_type": "stream",
     "text": [
      "./data/mnt/ramdisk/max/90kDICT32px/./3000/7/180_Chronographs_13538.jpg\n"
     ]
    },
    {
     "data": {
      "text/plain": [
       "{'image': tensor([[[-0.5608, -0.5608, -0.5608,  ..., -0.5608, -0.5608, -0.5686],\n",
       "          [-0.5608, -0.5608, -0.5608,  ..., -0.5608, -0.5608, -0.5608],\n",
       "          [-0.5608, -0.5608, -0.5608,  ..., -0.5608, -0.5608, -0.5608],\n",
       "          ...,\n",
       "          [-0.5608, -0.5608, -0.5608,  ..., -0.5608, -0.5608, -0.5608],\n",
       "          [-0.5608, -0.5608, -0.5608,  ..., -0.5608, -0.5608, -0.5608],\n",
       "          [-0.5608, -0.5608, -0.5608,  ..., -0.5608, -0.5608, -0.5608]]]),\n",
       " 'target': tensor([12, 17, 27, 24, 23, 24, 16, 27, 10, 25, 17, 28]),\n",
       " 'target_length': tensor([12, 17, 27, 24, 23, 24, 16, 27, 10, 25, 17, 28])}"
      ]
     },
     "execution_count": 3,
     "metadata": {},
     "output_type": "execute_result"
    }
   ],
   "source": [
    "test_dataset[2]"
   ]
  },
  {
   "cell_type": "code",
   "execution_count": 4,
   "id": "a9e53d0d-8653-4458-a5bc-14ad9fa4e3ab",
   "metadata": {},
   "outputs": [],
   "source": [
    "\n",
    "\n",
    "\n",
    "\n",
    "test_loader = DataLoader(test_dataset, batch_size = 64,\n",
    "                         shuffle = True, num_workers = 2,\n",
    "                        collate_fn = synth90k_collate_fn)"
   ]
  }
 ],
 "metadata": {
  "kernelspec": {
   "display_name": "Python 3 (ipykernel)",
   "language": "python",
   "name": "python3"
  },
  "language_info": {
   "codemirror_mode": {
    "name": "ipython",
    "version": 3
   },
   "file_extension": ".py",
   "mimetype": "text/x-python",
   "name": "python",
   "nbconvert_exporter": "python",
   "pygments_lexer": "ipython3",
   "version": "3.10.11"
  }
 },
 "nbformat": 4,
 "nbformat_minor": 5
}

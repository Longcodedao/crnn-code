{
 "cells": [
  {
   "cell_type": "code",
   "execution_count": 7,
   "id": "b63ac74b-ec5e-4e7e-912d-5db8bd7a59b9",
   "metadata": {},
   "outputs": [],
   "source": [
    "import torch.nn as nn\n",
    "import torch \n",
    "import torch.nn.functional as F"
   ]
  },
  {
   "cell_type": "code",
   "execution_count": 12,
   "id": "050ab220-d1b4-40bb-b2d5-0d93b7a9a23c",
   "metadata": {},
   "outputs": [],
   "source": [
    "class CRNN(nn.Module):\n",
    "    def __init__(self, img_channel, img_height, img_width, num_classes,\n",
    "                 leaky_relu = True, map_to_sequence = 64, lstm_hidden = 256):\n",
    "        super(CRNN, self).__init__()\n",
    "        self.cnn, dimension = self._create_cnn(img_channel, img_height, img_width, leaky_relu)\n",
    "        output_channel, output_height, output_width = dimension\n",
    "        \n",
    "        self.map_2_sequence = nn.Linear(output_channel * output_height, map_to_sequence)\n",
    "        self.lstm1 = nn.LSTM(map_to_sequence, lstm_hidden, \n",
    "                             bidirectional = True, batch_first = True)\n",
    "        self.lstm2 = nn.LSTM(2 * lstm_hidden, lstm_hidden,\n",
    "                             bidirectional = True, batch_first = True)\n",
    "\n",
    "        self.dense = nn.Linear(2 * lstm_hidden, num_classes)\n",
    "        \n",
    "    def _create_cnn(self, img_channel, img_height, img_width, leaky_relu):\n",
    "        assert img_height % 16 == 0\n",
    "        assert img_width % 4 == 0\n",
    "\n",
    "        # m means the mode: 0 is convolution, 1 is max pooling\n",
    "        # k means kernel_size\n",
    "        # s means stride\n",
    "        # p means padding\n",
    "        cfgs = [\n",
    "            #m   #k,     #s    #p    #c    #bn\n",
    "            [0,  (3, 3),  1,   1,    64,  False],\n",
    "            [1,  (2, 2),  2,   None, None, False],\n",
    "            [0,  (3, 3),  1,   1,    128, False],\n",
    "            [1,  (2, 2),  2,   None, None, False],\n",
    "            [0,  (3, 3),  1,   1,    256,  False],\n",
    "            [0,  (3, 3),  1,   1,    256,  False],\n",
    "            [1,  (2, 1),  2,   None,  None, False],\n",
    "            [0,  (3, 3),  1,   1,    512,   True],\n",
    "            [0,  (3, 3),  1,   1,    512,   True],\n",
    "            [1,  (2, 1),  2,   None,  None, False],\n",
    "            [0,  (2, 2),  1,   1,    512,   True],\n",
    "        ]\n",
    "\n",
    "        cnn = []\n",
    "        input_channels = img_channel\n",
    "        output_channels = None\n",
    "        \n",
    "        for m, k, s, p, c, bn in cfgs:\n",
    "            if m == 0: # Convolution \n",
    "                output_channels = c\n",
    "                \n",
    "                cnn.append(nn.Conv2d(input_channels, output_channels, \n",
    "                                     kernel_size = k, stride = s, \n",
    "                                     padding = p))\n",
    "                relu = nn.LeakyReLU(0.2, inplace = True) if leaky_relu == True \\\n",
    "                            else nn.ReLU(inplace = True)\n",
    "                cnn.append(relu)\n",
    "                \n",
    "                if bn == True:\n",
    "                    cnn.append(nn.BatchNorm2d(output_channels))\n",
    "                           \n",
    "                input_channels = output_channels\n",
    "                \n",
    "            elif m == 1:\n",
    "                cnn.append(nn.MaxPool2d(kernel_size = k, stride = s))\n",
    "\n",
    "        cnn_module = nn.Sequential(*cnn)\n",
    "        # The output height and width of an image after passing through CNN\n",
    "        output_height = img_height // 16 - 1 \n",
    "        output_width = img_width // 4 - 1\n",
    "        \n",
    "        return cnn_module, (output_channels, output_height, output_width)\n",
    "\n",
    "    def forward(self, image):\n",
    "        conv = self.conv(image)\n",
    "        batch, channel, height, width = conv.size()\n",
    "\n",
    "        conv = conv.view(batch, channel * height, width)\n",
    "        conv = conv.permute(0, 2, 1)  # (batch, width, channel * height)\n",
    "        seq = self.map_2_sequence(conv)\n",
    "\n",
    "        recurrent, _ = self.lstm1(seq)\n",
    "        recurrent, _ = self.lstm2(recurrent)\n",
    "\n",
    "        logits = self.dense(recurrent)\n",
    "\n",
    "        return F.log_softmax(logits, dim = 2)\n",
    "        "
   ]
  },
  {
   "cell_type": "code",
   "execution_count": 13,
   "id": "a98ec2a0-9e80-4465-94bb-aafbb2a7234d",
   "metadata": {},
   "outputs": [
    {
     "data": {
      "text/plain": [
       "CRNN(\n",
       "  (cnn): Sequential(\n",
       "    (0): Conv2d(1, 64, kernel_size=(3, 3), stride=(1, 1), padding=(1, 1))\n",
       "    (1): LeakyReLU(negative_slope=0.2, inplace=True)\n",
       "    (2): MaxPool2d(kernel_size=(2, 2), stride=2, padding=0, dilation=1, ceil_mode=False)\n",
       "    (3): Conv2d(64, 128, kernel_size=(3, 3), stride=(1, 1), padding=(1, 1))\n",
       "    (4): LeakyReLU(negative_slope=0.2, inplace=True)\n",
       "    (5): MaxPool2d(kernel_size=(2, 2), stride=2, padding=0, dilation=1, ceil_mode=False)\n",
       "    (6): Conv2d(128, 256, kernel_size=(3, 3), stride=(1, 1), padding=(1, 1))\n",
       "    (7): LeakyReLU(negative_slope=0.2, inplace=True)\n",
       "    (8): Conv2d(256, 256, kernel_size=(3, 3), stride=(1, 1), padding=(1, 1))\n",
       "    (9): LeakyReLU(negative_slope=0.2, inplace=True)\n",
       "    (10): MaxPool2d(kernel_size=(2, 1), stride=2, padding=0, dilation=1, ceil_mode=False)\n",
       "    (11): Conv2d(256, 512, kernel_size=(3, 3), stride=(1, 1), padding=(1, 1))\n",
       "    (12): LeakyReLU(negative_slope=0.2, inplace=True)\n",
       "    (13): BatchNorm2d(512, eps=1e-05, momentum=0.1, affine=True, track_running_stats=True)\n",
       "    (14): Conv2d(512, 512, kernel_size=(3, 3), stride=(1, 1), padding=(1, 1))\n",
       "    (15): LeakyReLU(negative_slope=0.2, inplace=True)\n",
       "    (16): BatchNorm2d(512, eps=1e-05, momentum=0.1, affine=True, track_running_stats=True)\n",
       "    (17): MaxPool2d(kernel_size=(2, 1), stride=2, padding=0, dilation=1, ceil_mode=False)\n",
       "    (18): Conv2d(512, 512, kernel_size=(2, 2), stride=(1, 1), padding=(1, 1))\n",
       "    (19): LeakyReLU(negative_slope=0.2, inplace=True)\n",
       "    (20): BatchNorm2d(512, eps=1e-05, momentum=0.1, affine=True, track_running_stats=True)\n",
       "  )\n",
       "  (map_2_sequence): Linear(in_features=512, out_features=64, bias=True)\n",
       "  (lstm1): LSTM(64, 256, batch_first=True, bidirectional=True)\n",
       "  (lstm2): LSTM(512, 256, batch_first=True, bidirectional=True)\n",
       "  (dense): Linear(in_features=512, out_features=100, bias=True)\n",
       ")"
      ]
     },
     "execution_count": 13,
     "metadata": {},
     "output_type": "execute_result"
    }
   ],
   "source": [
    "crnn = CRNN(1, 32, 100, 100)\n",
    "crnn "
   ]
  },
  {
   "cell_type": "markdown",
   "id": "e642208c-1a68-4c25-8ed4-b6e63d76ee2c",
   "metadata": {},
   "source": [
    "# CTC Decoder"
   ]
  },
  {
   "cell_type": "code",
   "execution_count": null,
   "id": "4c1e7952-850a-4e5a-a36f-1a7912acb017",
   "metadata": {},
   "outputs": [],
   "source": []
  }
 ],
 "metadata": {
  "kernelspec": {
   "display_name": "Python 3 (ipykernel)",
   "language": "python",
   "name": "python3"
  },
  "language_info": {
   "codemirror_mode": {
    "name": "ipython",
    "version": 3
   },
   "file_extension": ".py",
   "mimetype": "text/x-python",
   "name": "python",
   "nbconvert_exporter": "python",
   "pygments_lexer": "ipython3",
   "version": "3.10.11"
  }
 },
 "nbformat": 4,
 "nbformat_minor": 5
}

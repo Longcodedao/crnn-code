{
 "cells": [
  {
   "cell_type": "code",
   "execution_count": 1,
   "id": "9c0f1f37-7cfb-4ffd-a436-95918a94d8c8",
   "metadata": {},
   "outputs": [],
   "source": [
    "import torch.nn as nn"
   ]
  },
  {
   "cell_type": "code",
   "execution_count": null,
   "id": "f4bdc1a0-d9aa-44cd-917f-a23932125787",
   "metadata": {},
   "outputs": [],
   "source": [
    "class CRNN(nn.Module):\n",
    "    def __init__(self, img_channel, img_height, img_width, leaky_relu = True):\n",
    "        super(CRNN, self).__init__()\n",
    "        self.cnn, dimension = self._create_cnn(img_channel, img_height, img_width, leaky_relu)\n",
    "    \n",
    "    def _create_cnn(self, img_channel, img_height, img_width, leaky_relu):\n",
    "        assert img_height % 16 == 0\n",
    "        assert img_width % 4 == 0\n",
    "\n",
    "        # m means the mode: 0 is convolution, 1 is max pooling\n",
    "        # k means kernel_size\n",
    "        # s means stride\n",
    "        # p means padding\n",
    "        cfgs = [\n",
    "            #m   #k,     #s    #p    #c    #bn\n",
    "            [0,  (3, 3),  1,   1,    64,  False],\n",
    "            [1,  (2, 2),  2,   None, None, False],\n",
    "            [0,  (3, 3),  1,   1,    128, False],\n",
    "            [1,  (2, 2),  2,   None, None, False],\n",
    "            [0,  (3, 3),  1,   1,    256,  False],\n",
    "            [0,  (3, 3),  1,   1,    256,  False],\n",
    "            [1,  (2, 1),  2,   None,  None, False],\n",
    "            [0,  (3, 3),  1,   1,    512,   True],\n",
    "            [0,  (3, 3),  1,   1,    512,   True],\n",
    "            [1,  (2, 1),  2,   None,  None, False],\n",
    "            [0,  (2, 2),  1,   1,    512,   True],\n",
    "        ]\n",
    "\n",
    "        cnn = []\n",
    "        input_channels = img_channel\n",
    "        output_channels = None\n",
    "        \n",
    "        for m, k, s, p, c, bn in cfgs:\n",
    "            if m == 0: # Convolution \n",
    "                output_channels = c\n",
    "                \n",
    "                cnn.append(nn.Conv2d(input_channels, output_channels, \n",
    "                                     kernel_size = k, stride = s, \n",
    "                                     padding = p)\n",
    "                relu = nn.LeakyReLU(0.2, inplace = True) if leaky_relu == True \\\n",
    "                            else nn.ReLU(inplace = True)\n",
    "                cnn.append(relu)\n",
    "                \n",
    "                if bn == True:\n",
    "                cnn.append(nn.BatchNorm(output_channels)\n",
    "                           \n",
    "                input_channels = output_channels\n",
    "                \n",
    "            elif m == 1:\n",
    "                cnn.append(nn.MaxPool2d(kernel_size = k, stride = s))\n",
    "\n",
    "        cnn_module = nn.Sequential(*cnn)\n",
    "        # The output height and width of an image after passing through CNN\n",
    "        output_height = img_height // 16 - 1 \n",
    "        output_width = img_width // 4 - 1\n",
    "        \n",
    "        return cnn_module, (output_channel, output_height, output_width)\n",
    "\n",
    "\n",
    "        "
   ]
  },
  {
   "cell_type": "code",
   "execution_count": null,
   "id": "d9b4c286-a953-4a34-87b6-29b0bafc6e29",
   "metadata": {},
   "outputs": [],
   "source": []
  }
 ],
 "metadata": {
  "kernelspec": {
   "display_name": "Python 3 (ipykernel)",
   "language": "python",
   "name": "python3"
  },
  "language_info": {
   "codemirror_mode": {
    "name": "ipython",
    "version": 3
   },
   "file_extension": ".py",
   "mimetype": "text/x-python",
   "name": "python",
   "nbconvert_exporter": "python",
   "pygments_lexer": "ipython3",
   "version": "3.10.11"
  }
 },
 "nbformat": 4,
 "nbformat_minor": 5
}
